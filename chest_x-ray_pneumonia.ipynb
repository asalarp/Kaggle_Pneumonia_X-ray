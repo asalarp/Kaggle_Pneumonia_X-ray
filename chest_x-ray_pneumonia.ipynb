{
  "nbformat": 4,
  "nbformat_minor": 0,
  "metadata": {
    "accelerator": "GPU",
    "colab": {
      "name": "chest_xray_pneumonia.ipynb",
      "provenance": [],
      "collapsed_sections": []
    },
    "kernelspec": {
      "display_name": "Python 3",
      "language": "python",
      "name": "python3"
    }
  },
  "cells": [
    {
      "cell_type": "code",
      "metadata": {
        "colab": {
          "base_uri": "https://localhost:8080/"
        },
        "id": "HbrrqfmFoSRp",
        "outputId": "37cf1fc5-1429-4723-e48e-29d55ab6328b"
      },
      "source": [
        "# mounting google drive \n",
        "from google.colab import drive\n",
        "drive.mount('/content/drive')"
      ],
      "execution_count": null,
      "outputs": [
        {
          "output_type": "stream",
          "text": [
            "Mounted at /content/drive\n"
          ],
          "name": "stdout"
        }
      ]
    },
    {
      "cell_type": "code",
      "metadata": {
        "id": "pzicW5fkp9LO"
      },
      "source": [
        "import tensorflow as tf\n",
        "from tensorflow.keras import models\n",
        "from tensorflow.keras import layers\n",
        "from tensorflow.keras import regularizers\n",
        "from tensorflow.keras import optimizers\n",
        "from tensorflow.keras.preprocessing.image import ImageDataGenerator\n",
        "import matplotlib.pyplot as plt\n",
        "from tensorflow.keras.layers import LeakyReLU\n",
        "from tensorflow.keras.callbacks import ModelCheckpoint"
      ],
      "execution_count": null,
      "outputs": []
    },
    {
      "cell_type": "markdown",
      "metadata": {
        "id": "h375W7Plkcp6"
      },
      "source": [
        "# Data loading and preprocessing "
      ]
    },
    {
      "cell_type": "code",
      "metadata": {
        "id": "iFkqv8WuqK94"
      },
      "source": [
        "train_dir = \"/content/drive/MyDrive/ML Project/Pneumonia//train\"\n",
        "valid_dir = \"/content/drive/MyDrive/ML Project/Pneumonia/valid\"\n",
        "test_dir = \"/content/drive/MyDrive/ML Project/Pneumonia/test\""
      ],
      "execution_count": null,
      "outputs": []
    },
    {
      "cell_type": "code",
      "metadata": {
        "colab": {
          "base_uri": "https://localhost:8080/"
        },
        "id": "-ztIg-PxqO6z",
        "outputId": "8410980b-868c-4a36-f2a7-019f9c14807a"
      },
      "source": [
        "batch_size=28\n",
        "target_size=(150,150)\n",
        "rescale=1./255.\n",
        "zoom_range=0.3\n",
        "vertical_flip=True\n",
        "\n",
        "train_datagen=ImageDataGenerator(rescale=rescale,zoom_range=zoom_range ,vertical_flip=vertical_flip)\n",
        "test_datagen=ImageDataGenerator(rescale=rescale)\n",
        "valid_datagen=ImageDataGenerator(rescale=rescale)\n",
        "\n",
        "train_generator = train_datagen.flow_from_directory(train_dir,target_size=target_size,batch_size=batch_size,class_mode=\"binary\")\n",
        "valid_generator = valid_datagen.flow_from_directory(valid_dir,target_size=target_size,batch_size=batch_size,class_mode=\"binary\")\n",
        "test_generator = test_datagen.flow_from_directory(test_dir,target_size=target_size,batch_size=batch_size,class_mode=\"binary\")"
      ],
      "execution_count": null,
      "outputs": [
        {
          "output_type": "stream",
          "text": [
            "Found 5216 images belonging to 2 classes.\n",
            "Found 16 images belonging to 2 classes.\n",
            "Found 624 images belonging to 2 classes.\n"
          ],
          "name": "stdout"
        }
      ]
    },
    {
      "cell_type": "markdown",
      "metadata": {
        "id": "dL7DlBk-kmos"
      },
      "source": [
        "# Building model"
      ]
    },
    {
      "cell_type": "code",
      "metadata": {
        "id": "nqqbjxToqRUP"
      },
      "source": [
        "model = models.Sequential()\n",
        "model.add(layers.Conv2D(32, (5, 5), activation='relu',padding='same',\n",
        "                    input_shape=(150, 150, 3)))\n",
        "model.add(layers.Conv2D(64, (5,5), activation='relu',padding='same'))\n",
        "model.add(layers.MaxPooling2D((2, 2)))\n",
        "model.add(layers.Conv2D(128, (3, 3), activation='relu',padding='same',kernel_regularizer=regularizers.l2(0.001)))\n",
        "model.add(layers.Dropout(0.2))\n",
        "model.add(layers.MaxPooling2D((2, 2)))\n",
        "model.add(layers.Conv2D(256, (3, 3), activation='relu',padding='same',kernel_regularizer=regularizers.l2(0.001)))\n",
        "model.add(layers.MaxPooling2D((2, 2)))\n",
        "model.add(layers.Conv2D(512, (3, 3), activation='relu',padding='same',kernel_regularizer=regularizers.l2(0.001)))\n",
        "model.add(layers.Dropout(0.2))\n",
        "model.add(layers.MaxPooling2D((2, 2)))\n",
        "model.add(layers.Flatten())\n",
        "model.add(layers.Dropout(0.2))\n",
        "model.add(layers.Dense(1, activation='sigmoid'))\n",
        "model.compile(optimizer=optimizers.RMSprop(lr=0.0005),loss='binary_crossentropy',metrics=['accuracy'])\n"
      ],
      "execution_count": null,
      "outputs": []
    },
    {
      "cell_type": "code",
      "metadata": {
        "colab": {
          "base_uri": "https://localhost:8080/"
        },
        "id": "PUIwaGCE7v4P",
        "outputId": "988be220-4b78-4170-86d0-58cbf156ab1c"
      },
      "source": [
        "model.summary()"
      ],
      "execution_count": null,
      "outputs": [
        {
          "output_type": "stream",
          "text": [
            "Model: \"sequential\"\n",
            "_________________________________________________________________\n",
            "Layer (type)                 Output Shape              Param #   \n",
            "=================================================================\n",
            "conv2d (Conv2D)              (None, 150, 150, 32)      2432      \n",
            "_________________________________________________________________\n",
            "conv2d_1 (Conv2D)            (None, 150, 150, 64)      51264     \n",
            "_________________________________________________________________\n",
            "max_pooling2d (MaxPooling2D) (None, 75, 75, 64)        0         \n",
            "_________________________________________________________________\n",
            "conv2d_2 (Conv2D)            (None, 75, 75, 128)       73856     \n",
            "_________________________________________________________________\n",
            "dropout (Dropout)            (None, 75, 75, 128)       0         \n",
            "_________________________________________________________________\n",
            "max_pooling2d_1 (MaxPooling2 (None, 37, 37, 128)       0         \n",
            "_________________________________________________________________\n",
            "conv2d_3 (Conv2D)            (None, 37, 37, 256)       295168    \n",
            "_________________________________________________________________\n",
            "max_pooling2d_2 (MaxPooling2 (None, 18, 18, 256)       0         \n",
            "_________________________________________________________________\n",
            "conv2d_4 (Conv2D)            (None, 18, 18, 512)       1180160   \n",
            "_________________________________________________________________\n",
            "dropout_1 (Dropout)          (None, 18, 18, 512)       0         \n",
            "_________________________________________________________________\n",
            "max_pooling2d_3 (MaxPooling2 (None, 9, 9, 512)         0         \n",
            "_________________________________________________________________\n",
            "flatten (Flatten)            (None, 41472)             0         \n",
            "_________________________________________________________________\n",
            "dropout_2 (Dropout)          (None, 41472)             0         \n",
            "_________________________________________________________________\n",
            "dense (Dense)                (None, 1)                 41473     \n",
            "=================================================================\n",
            "Total params: 1,644,353\n",
            "Trainable params: 1,644,353\n",
            "Non-trainable params: 0\n",
            "_________________________________________________________________\n"
          ],
          "name": "stdout"
        }
      ]
    },
    {
      "cell_type": "markdown",
      "metadata": {
        "id": "1-KbbHzmk6dZ"
      },
      "source": [
        "# Training model"
      ]
    },
    {
      "cell_type": "code",
      "metadata": {
        "colab": {
          "base_uri": "https://localhost:8080/"
        },
        "id": "zcSQMf6uqXOR",
        "outputId": "c364f708-8a68-4297-a8a0-1f93d087db05"
      },
      "source": [
        "checkpoint = ModelCheckpoint(filepath,monitor='val_loss', verbose=1, save_best_only=True, save_weights_only=True, mode='auto')\n",
        "history = model.fit(train_generator, steps_per_epoch=train_generator.samples // batch_size, epochs=epochs,\n",
        "                    validation_data=valid_generator, callbacks=callbacks_list)"
      ],
      "execution_count": null,
      "outputs": [
        {
          "output_type": "stream",
          "text": [
            "Epoch 1/50\n",
            "186/186 [==============================] - 4164s 22s/step - loss: 0.9165 - accuracy: 0.7161 - val_loss: 0.8397 - val_accuracy: 0.5625\n",
            "\n",
            "Epoch 00001: val_loss improved from inf to 0.83973, saving model to weights-improvement.hdf5\n",
            "Epoch 2/50\n",
            "186/186 [==============================] - 102s 549ms/step - loss: 0.4702 - accuracy: 0.8032 - val_loss: 0.7364 - val_accuracy: 0.6250\n",
            "\n",
            "Epoch 00002: val_loss improved from 0.83973 to 0.73636, saving model to weights-improvement.hdf5\n",
            "Epoch 3/50\n",
            "186/186 [==============================] - 102s 545ms/step - loss: 0.3562 - accuracy: 0.8549 - val_loss: 0.5430 - val_accuracy: 0.6875\n",
            "\n",
            "Epoch 00003: val_loss improved from 0.73636 to 0.54302, saving model to weights-improvement.hdf5\n",
            "Epoch 4/50\n",
            "186/186 [==============================] - 101s 542ms/step - loss: 0.3228 - accuracy: 0.8812 - val_loss: 0.5417 - val_accuracy: 0.8125\n",
            "\n",
            "Epoch 00004: val_loss improved from 0.54302 to 0.54171, saving model to weights-improvement.hdf5\n",
            "Epoch 5/50\n",
            "186/186 [==============================] - 101s 543ms/step - loss: 0.2643 - accuracy: 0.9052 - val_loss: 0.6616 - val_accuracy: 0.6250\n",
            "\n",
            "Epoch 00005: val_loss did not improve from 0.54171\n",
            "Epoch 6/50\n",
            "186/186 [==============================] - 101s 545ms/step - loss: 0.2634 - accuracy: 0.9062 - val_loss: 0.7541 - val_accuracy: 0.6875\n",
            "\n",
            "Epoch 00006: val_loss did not improve from 0.54171\n",
            "Epoch 7/50\n",
            "186/186 [==============================] - 101s 546ms/step - loss: 0.2631 - accuracy: 0.9059 - val_loss: 0.5798 - val_accuracy: 0.7500\n",
            "\n",
            "Epoch 00007: val_loss did not improve from 0.54171\n",
            "Epoch 8/50\n",
            "186/186 [==============================] - 102s 547ms/step - loss: 0.2463 - accuracy: 0.9111 - val_loss: 0.4225 - val_accuracy: 0.8750\n",
            "\n",
            "Epoch 00008: val_loss improved from 0.54171 to 0.42250, saving model to weights-improvement.hdf5\n",
            "Epoch 9/50\n",
            "186/186 [==============================] - 101s 544ms/step - loss: 0.2386 - accuracy: 0.9101 - val_loss: 0.7296 - val_accuracy: 0.6875\n",
            "\n",
            "Epoch 00009: val_loss did not improve from 0.42250\n",
            "Epoch 10/50\n",
            "186/186 [==============================] - 101s 542ms/step - loss: 0.2289 - accuracy: 0.9116 - val_loss: 0.8844 - val_accuracy: 0.6250\n",
            "\n",
            "Epoch 00010: val_loss did not improve from 0.42250\n",
            "Epoch 11/50\n",
            "186/186 [==============================] - 101s 543ms/step - loss: 0.2183 - accuracy: 0.9187 - val_loss: 0.6083 - val_accuracy: 0.6875\n",
            "\n",
            "Epoch 00011: val_loss did not improve from 0.42250\n",
            "Epoch 12/50\n",
            "186/186 [==============================] - 102s 549ms/step - loss: 0.1923 - accuracy: 0.9290 - val_loss: 0.4720 - val_accuracy: 0.9375\n",
            "\n",
            "Epoch 00012: val_loss did not improve from 0.42250\n",
            "Epoch 13/50\n",
            "186/186 [==============================] - 102s 546ms/step - loss: 0.2292 - accuracy: 0.9224 - val_loss: 0.7816 - val_accuracy: 0.6250\n",
            "\n",
            "Epoch 00013: val_loss did not improve from 0.42250\n",
            "Epoch 14/50\n",
            "186/186 [==============================] - 101s 544ms/step - loss: 0.2031 - accuracy: 0.9323 - val_loss: 1.2728 - val_accuracy: 0.6250\n",
            "\n",
            "Epoch 00014: val_loss did not improve from 0.42250\n",
            "Epoch 15/50\n",
            "186/186 [==============================] - 101s 541ms/step - loss: 0.1906 - accuracy: 0.9324 - val_loss: 1.0516 - val_accuracy: 0.5625\n",
            "\n",
            "Epoch 00015: val_loss did not improve from 0.42250\n",
            "Epoch 16/50\n",
            "186/186 [==============================] - 100s 539ms/step - loss: 0.1966 - accuracy: 0.9244 - val_loss: 1.0731 - val_accuracy: 0.6250\n",
            "\n",
            "Epoch 00016: val_loss did not improve from 0.42250\n",
            "Epoch 17/50\n",
            "186/186 [==============================] - 101s 541ms/step - loss: 0.1734 - accuracy: 0.9409 - val_loss: 0.5745 - val_accuracy: 0.7500\n",
            "\n",
            "Epoch 00017: val_loss did not improve from 0.42250\n",
            "Epoch 18/50\n",
            "186/186 [==============================] - 101s 542ms/step - loss: 0.1785 - accuracy: 0.9365 - val_loss: 1.5447 - val_accuracy: 0.6250\n",
            "\n",
            "Epoch 00018: val_loss did not improve from 0.42250\n",
            "Epoch 19/50\n",
            "186/186 [==============================] - 101s 541ms/step - loss: 0.1936 - accuracy: 0.9335 - val_loss: 1.0189 - val_accuracy: 0.6250\n",
            "\n",
            "Epoch 00019: val_loss did not improve from 0.42250\n",
            "Epoch 20/50\n",
            "186/186 [==============================] - 101s 544ms/step - loss: 0.1742 - accuracy: 0.9367 - val_loss: 0.8117 - val_accuracy: 0.6250\n",
            "\n",
            "Epoch 00020: val_loss did not improve from 0.42250\n",
            "Epoch 21/50\n",
            "186/186 [==============================] - 101s 540ms/step - loss: 0.1768 - accuracy: 0.9401 - val_loss: 1.2809 - val_accuracy: 0.5625\n",
            "\n",
            "Epoch 00021: val_loss did not improve from 0.42250\n",
            "Epoch 22/50\n",
            "186/186 [==============================] - 101s 542ms/step - loss: 0.1845 - accuracy: 0.9380 - val_loss: 1.1858 - val_accuracy: 0.6250\n",
            "\n",
            "Epoch 00022: val_loss did not improve from 0.42250\n",
            "Epoch 23/50\n",
            "186/186 [==============================] - 101s 542ms/step - loss: 0.1567 - accuracy: 0.9473 - val_loss: 1.2074 - val_accuracy: 0.5625\n",
            "\n",
            "Epoch 00023: val_loss did not improve from 0.42250\n",
            "Epoch 24/50\n",
            "186/186 [==============================] - 100s 536ms/step - loss: 0.1792 - accuracy: 0.9385 - val_loss: 0.8515 - val_accuracy: 0.5625\n",
            "\n",
            "Epoch 00024: val_loss did not improve from 0.42250\n",
            "Epoch 25/50\n",
            "186/186 [==============================] - 100s 536ms/step - loss: 0.1594 - accuracy: 0.9478 - val_loss: 0.8879 - val_accuracy: 0.6250\n",
            "\n",
            "Epoch 00025: val_loss did not improve from 0.42250\n",
            "Epoch 26/50\n",
            "186/186 [==============================] - 102s 548ms/step - loss: 0.1567 - accuracy: 0.9460 - val_loss: 0.9336 - val_accuracy: 0.5625\n",
            "\n",
            "Epoch 00026: val_loss did not improve from 0.42250\n",
            "Epoch 27/50\n",
            "186/186 [==============================] - 103s 551ms/step - loss: 0.1590 - accuracy: 0.9463 - val_loss: 0.6032 - val_accuracy: 0.6875\n",
            "\n",
            "Epoch 00027: val_loss did not improve from 0.42250\n",
            "Epoch 28/50\n",
            "186/186 [==============================] - 101s 542ms/step - loss: 0.1520 - accuracy: 0.9458 - val_loss: 0.5267 - val_accuracy: 0.7500\n",
            "\n",
            "Epoch 00028: val_loss did not improve from 0.42250\n",
            "Epoch 29/50\n",
            "186/186 [==============================] - 101s 540ms/step - loss: 0.1508 - accuracy: 0.9498 - val_loss: 1.4112 - val_accuracy: 0.5625\n",
            "\n",
            "Epoch 00029: val_loss did not improve from 0.42250\n",
            "Epoch 30/50\n",
            "186/186 [==============================] - 101s 545ms/step - loss: 0.1658 - accuracy: 0.9441 - val_loss: 1.3874 - val_accuracy: 0.5625\n",
            "\n",
            "Epoch 00030: val_loss did not improve from 0.42250\n",
            "Epoch 31/50\n",
            "186/186 [==============================] - 101s 543ms/step - loss: 0.1549 - accuracy: 0.9461 - val_loss: 1.2118 - val_accuracy: 0.5625\n",
            "\n",
            "Epoch 00031: val_loss did not improve from 0.42250\n",
            "Epoch 32/50\n",
            "186/186 [==============================] - 101s 542ms/step - loss: 0.1648 - accuracy: 0.9458 - val_loss: 0.6767 - val_accuracy: 0.6875\n",
            "\n",
            "Epoch 00032: val_loss did not improve from 0.42250\n",
            "Epoch 33/50\n",
            "186/186 [==============================] - 100s 537ms/step - loss: 0.1628 - accuracy: 0.9393 - val_loss: 1.3151 - val_accuracy: 0.5625\n",
            "\n",
            "Epoch 00033: val_loss did not improve from 0.42250\n",
            "Epoch 34/50\n",
            "186/186 [==============================] - 101s 540ms/step - loss: 0.1269 - accuracy: 0.9571 - val_loss: 0.5754 - val_accuracy: 0.6875\n",
            "\n",
            "Epoch 00034: val_loss did not improve from 0.42250\n",
            "Epoch 35/50\n",
            "186/186 [==============================] - 102s 549ms/step - loss: 0.1459 - accuracy: 0.9544 - val_loss: 1.3423 - val_accuracy: 0.5625\n",
            "\n",
            "Epoch 00035: val_loss did not improve from 0.42250\n",
            "Epoch 36/50\n",
            "186/186 [==============================] - 102s 549ms/step - loss: 0.1489 - accuracy: 0.9507 - val_loss: 0.5955 - val_accuracy: 0.6875\n",
            "\n",
            "Epoch 00036: val_loss did not improve from 0.42250\n",
            "Epoch 37/50\n",
            "186/186 [==============================] - 102s 547ms/step - loss: 0.1473 - accuracy: 0.9517 - val_loss: 2.0320 - val_accuracy: 0.5625\n",
            "\n",
            "Epoch 00037: val_loss did not improve from 0.42250\n",
            "Epoch 38/50\n",
            "186/186 [==============================] - 102s 548ms/step - loss: 0.1381 - accuracy: 0.9560 - val_loss: 0.6704 - val_accuracy: 0.6250\n",
            "\n",
            "Epoch 00038: val_loss did not improve from 0.42250\n",
            "Epoch 39/50\n",
            "186/186 [==============================] - 102s 548ms/step - loss: 0.1497 - accuracy: 0.9569 - val_loss: 1.0348 - val_accuracy: 0.6250\n",
            "\n",
            "Epoch 00039: val_loss did not improve from 0.42250\n",
            "Epoch 40/50\n",
            "186/186 [==============================] - 103s 551ms/step - loss: 0.1343 - accuracy: 0.9540 - val_loss: 1.0173 - val_accuracy: 0.6875\n",
            "\n",
            "Epoch 00040: val_loss did not improve from 0.42250\n",
            "Epoch 41/50\n",
            "186/186 [==============================] - 102s 545ms/step - loss: 0.1406 - accuracy: 0.9538 - val_loss: 2.1927 - val_accuracy: 0.5625\n",
            "\n",
            "Epoch 00041: val_loss did not improve from 0.42250\n",
            "Epoch 42/50\n",
            "186/186 [==============================] - 102s 549ms/step - loss: 0.1552 - accuracy: 0.9474 - val_loss: 0.3384 - val_accuracy: 0.8750\n",
            "\n",
            "Epoch 00042: val_loss improved from 0.42250 to 0.33838, saving model to weights-improvement.hdf5\n",
            "Epoch 43/50\n",
            "186/186 [==============================] - 100s 538ms/step - loss: 0.1328 - accuracy: 0.9567 - val_loss: 1.0033 - val_accuracy: 0.6875\n",
            "\n",
            "Epoch 00043: val_loss did not improve from 0.33838\n",
            "Epoch 44/50\n",
            "186/186 [==============================] - 100s 538ms/step - loss: 0.1485 - accuracy: 0.9491 - val_loss: 0.7429 - val_accuracy: 0.6875\n",
            "\n",
            "Epoch 00044: val_loss did not improve from 0.33838\n",
            "Epoch 45/50\n",
            "186/186 [==============================] - 101s 544ms/step - loss: 0.1258 - accuracy: 0.9528 - val_loss: 0.5995 - val_accuracy: 0.7500\n",
            "\n",
            "Epoch 00045: val_loss did not improve from 0.33838\n",
            "Epoch 46/50\n",
            "186/186 [==============================] - 100s 538ms/step - loss: 0.1290 - accuracy: 0.9578 - val_loss: 0.7248 - val_accuracy: 0.6250\n",
            "\n",
            "Epoch 00046: val_loss did not improve from 0.33838\n",
            "Epoch 47/50\n",
            "186/186 [==============================] - 100s 540ms/step - loss: 0.1293 - accuracy: 0.9556 - val_loss: 0.7424 - val_accuracy: 0.6875\n",
            "\n",
            "Epoch 00047: val_loss did not improve from 0.33838\n",
            "Epoch 48/50\n",
            "186/186 [==============================] - 101s 540ms/step - loss: 0.1323 - accuracy: 0.9592 - val_loss: 0.9460 - val_accuracy: 0.6250\n",
            "\n",
            "Epoch 00048: val_loss did not improve from 0.33838\n",
            "Epoch 49/50\n",
            "186/186 [==============================] - 100s 535ms/step - loss: 0.1340 - accuracy: 0.9540 - val_loss: 1.2178 - val_accuracy: 0.5625\n",
            "\n",
            "Epoch 00049: val_loss did not improve from 0.33838\n",
            "Epoch 50/50\n",
            "186/186 [==============================] - 100s 538ms/step - loss: 0.1242 - accuracy: 0.9565 - val_loss: 1.0150 - val_accuracy: 0.6250\n",
            "\n",
            "Epoch 00050: val_loss did not improve from 0.33838\n"
          ],
          "name": "stdout"
        }
      ]
    },
    {
      "cell_type": "markdown",
      "metadata": {
        "id": "XA1wj6FblOM4"
      },
      "source": [
        "# Loss/Accuracy visualization "
      ]
    },
    {
      "cell_type": "code",
      "metadata": {
        "colab": {
          "base_uri": "https://localhost:8080/",
          "height": 278
        },
        "id": "fXS4hZ7VY_c0",
        "outputId": "a9840f3e-5e8e-45d6-decd-e324ea3fcc84"
      },
      "source": [
        "def plot(history,figsize,y,x):\n",
        "    history_dict=history.history\n",
        "    loss=history_dict[y]\n",
        "    acc=history_dict[x]\n",
        "    epoch=range(1,len(acc)+1)\n",
        "    plt.figure(figsize=figsize)\n",
        "    plt.plot(epoch,loss,'bo',label='Training loss')\n",
        "    plt.plot(epoch,acc,'r',label='Training accuracy')\n",
        "    plt.xlabel('Epoches')\n",
        "    plt.ylabel('loss')\n",
        "    plt.legend()\n",
        "plot(train_history,(12,4),y='loss',x='accuracy')\n"
      ],
      "execution_count": null,
      "outputs": [
        {
          "output_type": "display_data",
          "data": {
            "image/png": "[encoded data removed]",
            "text/plain": [
              "<Figure size 864x288 with 1 Axes>"
            ]
          },
          "metadata": {
            "tags": [],
            "needs_background": "light"
          }
        }
      ]
    },
    {
      "cell_type": "markdown",
      "metadata": {
        "id": "lSlozjqb1NYJ"
      },
      "source": [
        "# Test evaluation "
      ]
    },
    {
      "cell_type": "code",
      "metadata": {
        "id": "YJYCttii0pq8",
        "colab": {
          "base_uri": "https://localhost:8080/"
        },
        "outputId": "780b61e2-6b00-4941-f1ab-b0c44111fc80"
      },
      "source": [
        "results = model.evaluate(test_set)\n",
        "print(\"test set resulat is\",results)"
      ],
      "execution_count": null,
      "outputs": [
        {
          "output_type": "stream",
          "text": [
            "23/23 [==============================] - 422s 19s/step - loss: 0.2782 - accuracy: 0.9299\n",
            "test set resulat is [0.27924479126930237, 0.9298718070983887]\n"
          ],
          "name": "stdout"
        }
      ]
    }
  ]
}